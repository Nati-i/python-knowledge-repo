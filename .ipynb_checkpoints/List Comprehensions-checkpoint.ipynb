{
 "cells": [
  {
   "cell_type": "markdown",
   "metadata": {},
   "source": [
    "# List Comprehensions\n",
    "\n",
    "\n",
    "List comprehension is a pythonic way of writing code that can make your code more readable.\n",
    "\n",
    "Although they are a bit tricky to get used to, list comprehensions provide a\n",
    "consise way of generating lists and they can be very useful to speed up coding.\n"
   ]
  },
  {
   "cell_type": "code",
   "execution_count": 7,
   "metadata": {},
   "outputs": [
    {
     "name": "stdout",
     "output_type": "stream",
     "text": [
      "[1, 4, 9, 16, 25]\n",
      "[4, 16]\n",
      "[0, 7, 14, 21, 28, 35, 42, 49]\n",
      "[3, 13, 23, 30]\n"
     ]
    }
   ],
   "source": [
    "nums = [1, 2, 3, 4, 5]\n",
    "# square each element in nums\n",
    "print([num*num for num in nums])\n",
    "\n",
    "# square each element in numf if element is even\n",
    "print([num*num for num in nums if num%2 == 0])"
   ]
  },
  {
   "cell_type": "markdown",
   "metadata": {},
   "source": [
    "## Simple Examples"
   ]
  },
  {
   "cell_type": "code",
   "execution_count": 19,
   "metadata": {},
   "outputs": [
    {
     "name": "stdout",
     "output_type": "stream",
     "text": [
      "[0, 7, 14, 21, 28, 35, 42, 49]\n",
      "[3, 13, 23, 30]\n",
      "8\n",
      "{'it', 'my', 'is', 'and', 'has'}\n",
      "{'This': 4, 'is': 2, 'my': 2, 'sentence': 8, 'and': 3, 'it': 2, 'has': 3, 'many': 4, 'spaces': 6}\n"
     ]
    }
   ],
   "source": [
    "# Find all numbers between 1-50 that are divisible by 7\n",
    "print([n for n in range(0,51) if n%7 == 0])\n",
    "\n",
    "# Find all numbers between 1-30 that contain the digit 3\n",
    "print([n for n in range(0,31) if '3' in str(n)])\n",
    "\n",
    "# Count the number of spaces in a string\n",
    "\n",
    "sentence = \"This is my sentence and it has many spaces\"\n",
    "print(len([space for space in sentence if space.isspace()]))\n",
    "\n",
    "\n",
    "# Find all words in a sentence with less than 4 letters\n",
    "print({word for word in sentence.split() if len(word) < 4})\n",
    "\n",
    "\n",
    "# Count the length of each word in a sentence\n",
    "print({word:len(word) for word in sentence.split()})"
   ]
  },
  {
   "cell_type": "markdown",
   "metadata": {},
   "source": [
    "## Less Simple Examples"
   ]
  },
  {
   "cell_type": "code",
   "execution_count": 53,
   "metadata": {},
   "outputs": [
    {
     "name": "stdout",
     "output_type": "stream",
     "text": [
      "{'2': 2, '4': 4, '6': 6, '8': 8, '10': 5, '3': 3, '9': 9, '5': 5, '7': 7}\n",
      "{2: 2, 3: 3, 4: 4, 5: 5, 6: 6, 7: 7, 8: 8, 9: 9, 10: 5}\n"
     ]
    }
   ],
   "source": [
    "# Find the highest single digit any of the numbers between 1-50 is\n",
    "# divisible by\n",
    "\n",
    "dicta = dict()\n",
    "for i in range(2,10):\n",
    "    for num in range(1,11):\n",
    "        if num%i == 0:\n",
    "            dicta['{0}'.format(num)] = i\n",
    "print((dicta))\n",
    "#{number:max(div for div in range(2,10) if number % div == 0) for number in range(1,11) if [div for div in range(2,10) if num%div==0]}\n",
    "ans = {num:max(div for div in range(2,10) if num % div == 0) for num in range(1,11) if [div for div in range(2,10) if num % div == 0]}\n",
    "print(ans)"
   ]
  },
  {
   "cell_type": "code",
   "execution_count": 58,
   "metadata": {},
   "outputs": [
    {
     "name": "stdout",
     "output_type": "stream",
     "text": [
      "[[40.0, 20.0, 10.0, 30.0], [100.0, 100.0, 100.0, 100.0]]\n",
      "[40.0, 20.0, 10.0, 30.0, 100.0, 100.0, 100.0, 100.0]\n"
     ]
    }
   ],
   "source": [
    "# Convert each element to float\n",
    "l = [['40', '20', '10', '30'], \n",
    "     ['100', '100', '100', '100']]\n",
    "\n",
    "print([[float(element) for element in row]for row in l])\n",
    "print([float(y) for x in l for y in x])"
   ]
  },
  {
   "cell_type": "code",
   "execution_count": null,
   "metadata": {},
   "outputs": [],
   "source": []
  }
 ],
 "metadata": {
  "kernelspec": {
   "display_name": "Python 3",
   "language": "python",
   "name": "python3"
  },
  "language_info": {
   "codemirror_mode": {
    "name": "ipython",
    "version": 3
   },
   "file_extension": ".py",
   "mimetype": "text/x-python",
   "name": "python",
   "nbconvert_exporter": "python",
   "pygments_lexer": "ipython3",
   "version": "3.7.6"
  }
 },
 "nbformat": 4,
 "nbformat_minor": 4
}
