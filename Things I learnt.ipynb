{
 "cells": [
  {
   "cell_type": "markdown",
   "metadata": {},
   "source": [
    "# Binary Complement\n",
    "\n",
    "~ is a bitwise inversion operator and it acts exectly as defined:\n",
    "    - The bitwise inversion of x is defined as -(x+1).\n",
    "    \n",
    "One can use this in oder to determine the opposite digonal of a matrix:"
   ]
  },
  {
   "cell_type": "code",
   "execution_count": 2,
   "metadata": {},
   "outputs": [
    {
     "name": "stdout",
     "output_type": "stream",
     "text": [
      "Diagonal 1: [1, 2, 3] \n",
      "Diagonal 2: [0, 2, 0]\n"
     ]
    }
   ],
   "source": [
    "matrix = [[1, 1, 0], \n",
    "          [2, 2, 2],\n",
    "          [0, 3, 3]]\n",
    "\n",
    "diagonal_1 = [matrix[i][i] for i in range(0, len(matrix))]\n",
    "diagonal_2 = [matrix[i][~i] for i in range(0, len(matrix))]\n",
    "\n",
    "print('Diagonal 1: {0} \\nDiagonal 2: {1}'.format(diagonal_1, diagonal_2))"
   ]
  },
  {
   "cell_type": "code",
   "execution_count": null,
   "metadata": {},
   "outputs": [],
   "source": []
  }
 ],
 "metadata": {
  "kernelspec": {
   "display_name": "Python 3",
   "language": "python",
   "name": "python3"
  },
  "language_info": {
   "codemirror_mode": {
    "name": "ipython",
    "version": 3
   },
   "file_extension": ".py",
   "mimetype": "text/x-python",
   "name": "python",
   "nbconvert_exporter": "python",
   "pygments_lexer": "ipython3",
   "version": "3.7.6"
  }
 },
 "nbformat": 4,
 "nbformat_minor": 4
}
